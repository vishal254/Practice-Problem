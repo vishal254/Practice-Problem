{
 "cells": [
  {
   "cell_type": "code",
   "execution_count": 9,
   "metadata": {},
   "outputs": [
    {
     "name": "stdout",
     "output_type": "stream",
     "text": [
      "10 20 30 40 \n",
      "20 30 40 "
     ]
    }
   ],
   "source": [
    "class node:\n",
    "    def __init__(self,data):\n",
    "        self.data=data\n",
    "        self.next=None;\n",
    "class LinkedList:\n",
    "    def __init__(self):\n",
    "        self.start=None;\n",
    "        \n",
    "    def viewList(self):      # LIST ko dikhane ke lie\n",
    "        if self.start==None:  #check kar rhe hai ki emty to nahi hai list \n",
    "            print(\"Empty\")\n",
    "        else:\n",
    "            temp=self.start\n",
    "            while temp!=None:\n",
    "                print(temp.data,end=' ')\n",
    "                temp=temp.next\n",
    "        \n",
    "    def deleteFirst(self):   # function banaya first element ko delete krne ke lie\n",
    "        if(self.start==None):   # chek kia list emty to nahi hai\n",
    "            print(\"Emty linkList\")    #print kara dia ki list empty hai\n",
    "        else:         #nahi to\n",
    "            self.start=self.start.next     #list ke next element ko start bana denge wo first element ke tarah behaive karega  \n",
    "    def insertLast(self,value):\n",
    "        newNode=node(value)   #ye vo node hai jo hame insert karna hai \n",
    "        if(self.start==None):  #check karega ki list empty hai ki nahi\n",
    "            self.start=newNode  #assign start as new node ye node as a first node jurr jaega\n",
    "        else:\n",
    "            temp=self.start   #ek temporary variable jo start ko point kr raha hai\n",
    "            while(temp.next!=None):  #jabtak ke temp ke next me none nahi hai tab tak ke list bhari hai ar loop chalta rhege\n",
    "                temp=temp.next  #temp ke next ko temp me dalte rahenge\n",
    "            temp.next=newNode  #jaise hi loop khatam hoga waise hi ye newNode last me jurr jaega\n",
    "            \n",
    "myList=LinkedList()\n",
    "myList.insertLast(10)\n",
    "myList.insertLast(20)\n",
    "myList.insertLast(30)\n",
    "myList.insertLast(40)\n",
    "\n",
    "\n",
    "myList.viewList()\n",
    "print()\n",
    "myList.deleteFirst()\n",
    "\n",
    "myList.viewList()\n"
   ]
  }
 ],
 "metadata": {
  "kernelspec": {
   "display_name": "Python 3",
   "language": "python",
   "name": "python3"
  },
  "language_info": {
   "codemirror_mode": {
    "name": "ipython",
    "version": 3
   },
   "file_extension": ".py",
   "mimetype": "text/x-python",
   "name": "python",
   "nbconvert_exporter": "python",
   "pygments_lexer": "ipython3",
   "version": "3.7.4"
  }
 },
 "nbformat": 4,
 "nbformat_minor": 2
}
