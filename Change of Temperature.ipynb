{
 "cells": [
  {
   "cell_type": "code",
   "execution_count": 3,
   "metadata": {},
   "outputs": [
    {
     "name": "stdout",
     "output_type": "stream",
     "text": [
      "Enter the temp in Celcius:37.5\n",
      "37.5 degree Celsius is equal to 99.5 degree Fahrenheit\n"
     ]
    }
   ],
   "source": [
    "#Formula\n",
    "#celsius * 1.8 = fahrenheit - 32  to change the temperature\n",
    "celsius=float(input(\"Enter the temp in Celcius:\"))\n",
    "\n",
    "fahrenheit=(celsius*1.8)+32\n",
    "print('%0.1f degree Celsius is equal to %0.1f degree Fahrenheit' %(celsius,fahrenheit))\n",
    "\n",
    "\n"
   ]
  },
  {
   "cell_type": "code",
   "execution_count": null,
   "metadata": {},
   "outputs": [],
   "source": [
    "#Formula\n",
    "#celsius * 1.8 = fahrenheit - 32  to change the temperature\n",
    "fahrenheit=float(input(\"Enter the temp in fahrenheit:\"))\n",
    "\n",
    "celsius=(fahrenheit-32)/(1.8)\n",
    "print('%0.1f degree  fahrenheit is equal to %0.1f degree Celsius' %(fahrenheit,celsius))\n",
    "\n",
    "\n"
   ]
  }
 ],
 "metadata": {
  "kernelspec": {
   "display_name": "Python 3",
   "language": "python",
   "name": "python3"
  },
  "language_info": {
   "codemirror_mode": {
    "name": "ipython",
    "version": 3
   },
   "file_extension": ".py",
   "mimetype": "text/x-python",
   "name": "python",
   "nbconvert_exporter": "python",
   "pygments_lexer": "ipython3",
   "version": "3.7.4"
  }
 },
 "nbformat": 4,
 "nbformat_minor": 2
}
